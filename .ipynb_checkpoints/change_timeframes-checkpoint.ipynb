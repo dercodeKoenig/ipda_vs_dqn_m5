{
 "cells": [
  {
   "cell_type": "code",
   "execution_count": 3,
   "id": "2023788c-5e75-4f9d-8791-4940722416bf",
   "metadata": {},
   "outputs": [
    {
     "data": {
      "text/plain": [
       "[0, 5, 10, 15, 20, 25, 30, 35, 40, 45, 50, 55]"
      ]
     },
     "execution_count": 3,
     "metadata": {},
     "output_type": "execute_result"
    }
   ],
   "source": [
    "csv_data_dir = \"./data/\"\n",
    "target_timeframe_minutes = 5\n",
    "opening_minutes = [target_timeframe_minutes*i for i in range(int(60/target_timeframe_minutes))]\n",
    "opening_minutes"
   ]
  },
  {
   "cell_type": "code",
   "execution_count": 4,
   "id": "52444999-791a-45a4-b636-224f76d13d5e",
   "metadata": {},
   "outputs": [],
   "source": [
    "import os\n",
    "from tqdm import tqdm\n",
    "from collections import deque\n",
    "import pandas as pd\n",
    "import numpy as np"
   ]
  },
  {
   "cell_type": "code",
   "execution_count": 6,
   "id": "8692fe7d-b579-4bdd-99aa-a45a0652bb8c",
   "metadata": {},
   "outputs": [
    {
     "name": "stdout",
     "output_type": "stream",
     "text": [
      "['AUDJPY.csv', 'AUDUSD.csv', 'CHFJPY.csv', 'EURAUD.csv', 'EURCHF.csv', 'EURGBP.csv', 'EURJPY.csv', 'eurusd.csv', 'GBPCHF.csv', 'GBPJPY.csv', 'GBPUSD.csv', 'NZDUSD.csv', 'USDCAD.csv', 'USDCHF.csv', 'USDJPY.csv']\n"
     ]
    }
   ],
   "source": [
    "files = os.listdir(csv_data_dir)\n",
    "print(files)"
   ]
  },
  {
   "cell_type": "code",
   "execution_count": 71,
   "id": "587314aa-5996-44f9-8471-9cad6ea71a83",
   "metadata": {},
   "outputs": [],
   "source": [
    "class candle_object:\n",
    "        def __init__(self,d, t,o,h,l,c):\n",
    "            self.date = d\n",
    "            self.t = t\n",
    "            self.o = o\n",
    "            self.h = h\n",
    "            self.l = l\n",
    "            self.c = c\n",
    "            \n",
    "def change_csv_timeframe(path):\n",
    "    print(path)\n",
    "    data = pd.read_csv(path)\n",
    "    candles = []\n",
    "    for i in tqdm(range(len(data))):\n",
    "        l = data.iloc[i]\n",
    "        x = candle_object(l[0],l[1],l[2],l[3],l[4], l[5])\n",
    "        candles.append(x)\n",
    "        \n",
    "        \n",
    "    last_target_open_minute = 0\n",
    "    target_open_minute = 0\n",
    "    target_candles = []\n",
    "    for i in candles:\n",
    "        hour = int(i.t.split(\":\")[0])\n",
    "        minute = int(i.t.split(\":\")[1])\n",
    "\n",
    "        last_target_open_minute = target_open_minute\n",
    "        target_open_minute = int(minute / target_timeframe_minutes)*target_timeframe_minutes\n",
    "\n",
    "        if last_target_open_minute != target_open_minute: # new candle\n",
    "            x = candle_object(i.date,str(hour)+\":\"+str(target_open_minute), i.o,i.h,i.l,i.c)\n",
    "            target_candles.append(x)\n",
    "        else:\n",
    "            if len(target_candles) > 1:\n",
    "                target_candles[-1].c = i.c\n",
    "                target_candles[-1].h = max(target_candles[-1].h, i.h)\n",
    "                target_candles[-1].l = min(target_candles[-1].l, i.l)\n",
    "                \n",
    "    data = {'Time':[target_candles[i].date+\" \"+target_candles[i].t for i in range(len(target_candles))],\n",
    "            'Open':[target_candles[i].o for i in range(len(target_candles))],\n",
    "            'High':[target_candles[i].h for i in range(len(target_candles))],\n",
    "            'Low':[target_candles[i].l for i in range(len(target_candles))],\n",
    "            'Close':[target_candles[i].c for i in range(len(target_candles))]\n",
    "           }\n",
    "\n",
    "    # Create DataFrame\n",
    "    df = pd.DataFrame(data)\n",
    "\n",
    "\n",
    "    df.to_csv(path+\"_m5.csv\")"
   ]
  },
  {
   "cell_type": "code",
   "execution_count": null,
   "id": "856c79b4-8519-41dc-b0e2-9b788dee3f38",
   "metadata": {},
   "outputs": [
    {
     "name": "stdout",
     "output_type": "stream",
     "text": [
      "./data/AUDJPY.csv\n"
     ]
    },
    {
     "name": "stderr",
     "output_type": "stream",
     "text": [
      "100%|██████████████████████████████████████████████████████████████████████| 6968272/6968272 [15:11<00:00, 7647.17it/s]\n"
     ]
    },
    {
     "name": "stdout",
     "output_type": "stream",
     "text": [
      "./data/AUDUSD.csv\n"
     ]
    },
    {
     "name": "stderr",
     "output_type": "stream",
     "text": [
      "100%|██████████████████████████████████████████████████████████████████████| 6644831/6644831 [14:49<00:00, 7472.30it/s]\n"
     ]
    },
    {
     "name": "stdout",
     "output_type": "stream",
     "text": [
      "./data/CHFJPY.csv\n"
     ]
    },
    {
     "name": "stderr",
     "output_type": "stream",
     "text": [
      "100%|██████████████████████████████████████████████████████████████████████| 6980144/6980144 [18:02<00:00, 6445.81it/s]\n"
     ]
    },
    {
     "name": "stdout",
     "output_type": "stream",
     "text": [
      "./data/EURAUD.csv\n"
     ]
    },
    {
     "name": "stderr",
     "output_type": "stream",
     "text": [
      "100%|██████████████████████████████████████████████████████████████████████| 7031692/7031692 [30:28<00:00, 3845.66it/s]\n"
     ]
    },
    {
     "name": "stdout",
     "output_type": "stream",
     "text": [
      "./data/EURCHF.csv\n"
     ]
    },
    {
     "name": "stderr",
     "output_type": "stream",
     "text": [
      " 53%|█████████████████████████████████████▍                                | 3466832/6490463 [13:54<09:39, 5218.74it/s]"
     ]
    }
   ],
   "source": [
    "for i in files:\n",
    "    change_csv_timeframe(csv_data_dir+i)"
   ]
  },
  {
   "cell_type": "code",
   "execution_count": null,
   "id": "571ea1e6-00cf-4e66-aef9-9ef2dcd126cb",
   "metadata": {},
   "outputs": [],
   "source": []
  },
  {
   "cell_type": "code",
   "execution_count": null,
   "id": "bf340fc9-4c10-44aa-a0f5-9019e9f5b60f",
   "metadata": {},
   "outputs": [],
   "source": []
  },
  {
   "cell_type": "code",
   "execution_count": null,
   "id": "b766f50b-ca36-4bea-8123-ec1612517346",
   "metadata": {},
   "outputs": [],
   "source": []
  },
  {
   "cell_type": "code",
   "execution_count": 65,
   "id": "8ee4f96b-9212-46ca-a179-a915097e3604",
   "metadata": {},
   "outputs": [],
   "source": []
  },
  {
   "cell_type": "code",
   "execution_count": null,
   "id": "7e28fd85-182a-4536-9f45-7d6db000e4b3",
   "metadata": {},
   "outputs": [],
   "source": []
  },
  {
   "cell_type": "code",
   "execution_count": null,
   "id": "579df950-eb9f-42b6-8f82-df43d290e54d",
   "metadata": {},
   "outputs": [],
   "source": []
  },
  {
   "cell_type": "code",
   "execution_count": null,
   "id": "e2816954-a277-45e1-85b6-e96cd7d1041b",
   "metadata": {},
   "outputs": [],
   "source": []
  }
 ],
 "metadata": {
  "kernelspec": {
   "display_name": "Python 3",
   "language": "python",
   "name": "python3"
  },
  "language_info": {
   "codemirror_mode": {
    "name": "ipython",
    "version": 3
   },
   "file_extension": ".py",
   "mimetype": "text/x-python",
   "name": "python",
   "nbconvert_exporter": "python",
   "pygments_lexer": "ipython3",
   "version": "3.6.8"
  }
 },
 "nbformat": 4,
 "nbformat_minor": 5
}
