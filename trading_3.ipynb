{
 "cells": [
  {
   "cell_type": "code",
   "execution_count": 1,
   "id": "7c30e6f3-94f2-4fcf-9793-821d75d1f639",
   "metadata": {},
   "outputs": [],
   "source": [
    "\n",
    "import os\n",
    "#os.environ[\"CUDA_VISIBLE_DEVICES\"]=\"-1\"    \n",
    "from dqn import DQNAgent\n",
    "from environment import environment, candle_class\n",
    "from transformer_layer import TransformerBlock, PositionEmbedding\n",
    "\n",
    "import time\n",
    "import matplotlib.pyplot as plt\n",
    "import tensorflow as tf\n",
    "import pandas as pd    \n",
    "import numpy as np\n",
    "from collections import deque\n",
    "from tqdm import tqdm\n",
    "import random\n",
    "import cv2\n",
    "import pickle\n",
    "\n",
    "name = \"dqn_trading_transformer\"\n",
    "data_dir = \"./archive\"\n",
    "resume = True\n",
    "#resume = False\n",
    "\n",
    "warmup_parallel = 8\n",
    "train_parallel = 8\n",
    "warmup_steps = 2000\n",
    "\n",
    "lr = 0.0001\n",
    "memory_size = 50000\n",
    "gamma = 0.99\n",
    "exploration = 0.02\n",
    "target_model_sync = 100\n",
    "batch_size = 24\n",
    "\n",
    "dlen = 120\n",
    "pos_size = 0.05 * 100000\n",
    "comm = 15/100000\n",
    "res_high = 100"
   ]
  },
  {
   "cell_type": "markdown",
   "id": "95e54c6c-02f4-4fee-8d2c-b833919804ec",
   "metadata": {},
   "source": [
    "x = environment(data_dir, dlen, res_high, comm, pos_size)\n",
    "m5,m15,h1,h4,d1,pos = x.reset(True)\n",
    "\n",
    "while True:\n",
    "    obs, _,_ = x.step(0)\n",
    "    m5,m15,h1,h4,d1,pos = obs\n",
    "    m5 +=1 \n",
    "    m5/=2\n",
    "    m15 +=1 \n",
    "    m15/=2\n",
    "    h1 +=1 \n",
    "    h1/=2\n",
    "    h4 +=1 \n",
    "    h4/=2\n",
    "    d1 +=1 \n",
    "    d1/=2\n",
    "    cv2.imshow(\"m5\",cv2.resize(m5,(300,300)))\n",
    "    cv2.imshow(\"m15\",cv2.resize(m15,(300,300)))\n",
    "    cv2.imshow(\"h1\",cv2.resize(h1,(300,300)))\n",
    "    cv2.imshow(\"h4\",cv2.resize(h4,(300,300)))\n",
    "    cv2.imshow(\"d1\",cv2.resize(d1,(300,300)))\n",
    "    cv2.waitKey(10)"
   ]
  },
  {
   "cell_type": "code",
   "execution_count": 2,
   "id": "b701228a-b593-43e5-a4fa-ddf2063b9579",
   "metadata": {},
   "outputs": [],
   "source": [
    "\n",
    "\n",
    "tf.keras.backend.clear_session()\n",
    "\n",
    "def make_model():\n",
    "    C1 = tf.keras.layers.Conv2D(64, 9,activation=\"relu\", padding=\"same\")\n",
    "\n",
    "    D1 = tf.keras.layers.Dense(64)\n",
    "    D2 = tf.keras.layers.Dense(512)\n",
    "    D3 = tf.keras.layers.Dense(256)\n",
    "    num_tx_units = 96\n",
    "    D4 = tf.keras.layers.Dense(num_tx_units)\n",
    "    D5 = tf.keras.layers.Dense(512)\n",
    "    D6 = tf.keras.layers.Dense(256)\n",
    "\n",
    "    LR = tf.keras.layers.LeakyReLU()\n",
    "\n",
    "    LN1 = tf.keras.layers.LayerNormalization()\n",
    "\n",
    "    P1 =  PositionEmbedding(dlen+1, num_tx_units)\n",
    "    T1 = TransformerBlock(num_tx_units, 8, 256)\n",
    "    T2= TransformerBlock(num_tx_units, 8, 256)\n",
    "    T3 = TransformerBlock(num_tx_units, 8, 256)\n",
    "\n",
    "    cn = tf.keras.layers.Concatenate()\n",
    "\n",
    "    GR1 = tf.keras.layers.GRU(256)\n",
    "    def proc_chart(x):\n",
    "        #x1 = image\n",
    "        #x2 = time\n",
    "        x1 = x[::, :-1, :]\n",
    "        x2 = x[::,-1,:]\n",
    "\n",
    "        x1 = tf.keras.layers.Reshape((res_high, dlen+1, 1))(x1)\n",
    "\n",
    "        x5 = C1(x1)\n",
    "        x1 =cn([x1,x5])\n",
    "        x1 = D1(x1)\n",
    "\n",
    "        x1 = tf.transpose(x1,perm=[0, 2, 1, 3])\n",
    "        x1 = tf.keras.layers.Reshape((dlen+1, res_high*x1.shape[-1]))(x1)\n",
    "        x2 = tf.keras.layers.Reshape((dlen+1, 1))(x2)\n",
    "        x1 = cn([x1,x2])\n",
    "\n",
    "        x1 = D2(x1)\n",
    "        x1 = LR(x1)\n",
    "        x1 = D3(x1)\n",
    "        x1 = LR(x1)\n",
    "        x1 = D4(x1)\n",
    "        x1 = LR(x1)\n",
    "        x1 = LN1(x1)\n",
    "\n",
    "\n",
    "\n",
    "        x1 = P1(x1)\n",
    "        x1 = T1(x1)\n",
    "        x1 = T2(x1)\n",
    "        x1 = T3(x1)\n",
    "\n",
    "        x1 = D5(x1)\n",
    "        x1 = LR(x1)\n",
    "        x1 = D6(x1)\n",
    "        x1 = LR(x1)\n",
    "        #x1 = tf.keras.layers.GlobalAveragePooling1D()(x1)\n",
    "        x1 = GR1(x1)\n",
    "\n",
    "        x1 = tf.keras.layers.Dense(1024,activity_regularizer=tf.keras.regularizers.L2(0.00001))(x1)\n",
    "        x1 = LR(x1)\n",
    "        x1 = tf.keras.layers.Dense(1024,activity_regularizer=tf.keras.regularizers.L2(0.00001))(x1)\n",
    "        x1 = LR(x1)\n",
    "        x1 = tf.keras.layers.Dense(1024,activity_regularizer=tf.keras.regularizers.L2(0.00001))(x1)\n",
    "        x1 = LR(x1)\n",
    "        x1 = tf.keras.layers.Dense(256,activity_regularizer=tf.keras.regularizers.L2(0.00001))(x1)\n",
    "        x1 = LR(x1)\n",
    "        #x1 = tf.keras.layers.LayerNormalization()(x1)\n",
    "        return x1\n",
    "    \n",
    "    input_m5 = tf.keras.layers.Input(shape = (res_high+1, dlen+1))\n",
    "    input_m15 = tf.keras.layers.Input(shape = (res_high+1, dlen+1))\n",
    "    input_h1 = tf.keras.layers.Input(shape = (res_high+1, dlen+1))\n",
    "    input_h4 = tf.keras.layers.Input(shape = (res_high+1, dlen+1))\n",
    "    input_d1 = tf.keras.layers.Input(shape = (res_high+1, dlen+1))\n",
    "    \n",
    "    x0 = proc_chart(input_m5)\n",
    "    x1 = proc_chart(input_m15)\n",
    "    x2 = proc_chart(input_h1)\n",
    "    x3 = proc_chart(input_h4)\n",
    "    x4 = proc_chart(input_d1)\n",
    "    \n",
    "    input_net_position = tf.keras.layers.Input(shape = (1))\n",
    "\n",
    "\n",
    "    x =cn([x0,x1,x2,x3,x4,input_net_position])\n",
    "    \n",
    "    x = tf.keras.layers.Dense(1024)(x)\n",
    "    x = LR(x)\n",
    "    x = tf.keras.layers.Dense(1024)(x)\n",
    "    x = LR(x)\n",
    "    x = tf.keras.layers.Dense(1024)(x)\n",
    "    x = LR(x)\n",
    "    \n",
    "    outputs = tf.keras.layers.Dense(3, activation = \"linear\", use_bias=False, dtype=\"float32\")(x)\n",
    "    model = tf.keras.Model([input_m5,input_m15,input_h1,input_h4, input_d1, input_net_position], outputs)\n",
    "    return model\n",
    "    \n",
    "model = make_model()\n",
    "target_model = make_model() #tf.keras.models.clone_model(model) does not work on shared layers\n",
    "#model.summary()"
   ]
  },
  {
   "cell_type": "code",
   "execution_count": 3,
   "id": "b4db0d3e-7df8-4a56-b06c-ea9aeb7a1783",
   "metadata": {},
   "outputs": [
    {
     "name": "stdout",
     "output_type": "stream",
     "text": [
      "loading weights...\n"
     ]
    }
   ],
   "source": [
    "opt = tf.keras.optimizers.Adam(lr)\n",
    "\n",
    "\n",
    "\n",
    "\n",
    "agent = DQNAgent(\n",
    "    model = model, \n",
    "    target_model = target_model,\n",
    "    n_actions = 3, \n",
    "    memory_size = memory_size, \n",
    "    gamma=gamma,\n",
    "    optimizer = opt,\n",
    "    batch_size = batch_size, \n",
    "    target_model_sync = target_model_sync,\n",
    "    exploration = exploration,\n",
    "    name=name,\n",
    "    output_dir = \"tx_3/\")\n",
    "\n",
    "if resume:\n",
    "\tprint(\"loading weights...\")\n",
    "\tagent.load_weights()"
   ]
  },
  {
   "cell_type": "code",
   "execution_count": 4,
   "id": "411125ec-439f-4de3-bcc3-4e0abf9d3304",
   "metadata": {},
   "outputs": [
    {
     "name": "stdout",
     "output_type": "stream",
     "text": [
      "warmup...\n",
      "using ./archive/EURGBP.csv_m5.csv_candle_classes\n",
      "using ./archive/USDJPY.csv_m5.csv_candle_classes\n",
      "using ./archive/USDCHF.csv_m5.csv_candle_classes\n",
      "using ./archive/EURAUD.csv_m5.csv_candle_classes\n",
      "using ./archive/GBPJPY.csv_m5.csv_candle_classes\n",
      "using ./archive/USDCAD.csv_m5.csv_candle_classes\n",
      "using ./archive/AUDUSD.csv_m5.csv_candle_classes\n",
      "using ./archive/EURJPY.csv_m5.csv_candle_classes\n",
      "2000/2000 [==============================] - 252s 123ms/step - loss: 0.0000e+00 - mean q: 0.0000e+00 - rewards: -0.0251 - t: 119.8273\n"
     ]
    },
    {
     "name": "stderr",
     "output_type": "stream",
     "text": [
      "c:\\users\\root\\appdata\\local\\programs\\python\\python36\\lib\\site-packages\\numpy\\core\\fromnumeric.py:3373: RuntimeWarning: Mean of empty slice.\n",
      "  out=out, **kwargs)\n",
      "c:\\users\\root\\appdata\\local\\programs\\python\\python36\\lib\\site-packages\\numpy\\core\\_methods.py:170: RuntimeWarning: invalid value encountered in double_scalars\n",
      "  ret = ret.dtype.type(ret / rcount)\n"
     ]
    }
   ],
   "source": [
    "x = [environment(data_dir, dlen, res_high, comm, pos_size, False) for _ in range(warmup_parallel)]\n",
    "print(\"warmup...\")\n",
    "n = warmup_steps\n",
    "agent.train(num_steps = n, envs = x, warmup = n, log_interval = n)"
   ]
  },
  {
   "cell_type": "code",
   "execution_count": 5,
   "id": "abb27070-100e-4c75-b51d-3d30d7132ecd",
   "metadata": {},
   "outputs": [
    {
     "data": {
      "text/plain": [
       "16000"
      ]
     },
     "execution_count": 5,
     "metadata": {},
     "output_type": "execute_result"
    }
   ],
   "source": [
    "len(agent.memory)"
   ]
  },
  {
   "cell_type": "code",
   "execution_count": null,
   "id": "87a81a7b-54d5-4796-b801-0e98ffee8890",
   "metadata": {},
   "outputs": [
    {
     "name": "stdout",
     "output_type": "stream",
     "text": [
      "training...\n",
      "using ./archive/GBPJPY.csv_m5.csv_candle_classes\n",
      "using ./archive/EURAUD.csv_m5.csv_candle_classes\n",
      "using ./archive/GBPUSD.csv_m5.csv_candle_classes\n",
      "using ./archive/AUDJPY.csv_m5.csv_candle_classes\n",
      "using ./archive/GBPCHF.csv_m5.csv_candle_classes\n",
      "using ./archive/USDCAD.csv_m5.csv_candle_classes\n",
      "using ./archive/EURAUD.csv_m5.csv_candle_classes\n",
      "using ./archive/CHFJPY.csv_m5.csv_candle_classes\n",
      "1000/1000 [==============================] - 768s 768ms/step - loss: 1.9722 - mean q: 7.1101 - rewards: -0.0030 - t: 749.2882\n",
      " 986/1000 [============================>.] - ETA: 10s - loss: 1.8738 - mean q: 6.1980 - rewards: -0.0588 - t: 738.1215"
     ]
    }
   ],
   "source": [
    "x = [environment(data_dir, dlen, res_high, comm, pos_size, False) for _ in range(train_parallel)]\n",
    "print(\"training...\")\n",
    "n = 1000000000\n",
    "agent.train(num_steps = n, envs = x, warmup = 0, log_interval = 1000)\n",
    "print(\"done\")"
   ]
  },
  {
   "cell_type": "code",
   "execution_count": null,
   "id": "99668af5-9022-416d-9a39-46886ff14463",
   "metadata": {},
   "outputs": [],
   "source": [
    "rew = [i[2] for i in agent.memory]\n",
    "sorted(rew)[0:10], sorted(rew)[-10:][::-1], \" - \", np.mean([abs(i) for i in rew])"
   ]
  },
  {
   "cell_type": "code",
   "execution_count": null,
   "id": "a7a23302-fdb4-45f5-a315-6cc784c94461",
   "metadata": {},
   "outputs": [],
   "source": []
  },
  {
   "cell_type": "code",
   "execution_count": null,
   "id": "bf1ba604-8d37-4c7c-957c-74e333f91a8e",
   "metadata": {},
   "outputs": [],
   "source": []
  },
  {
   "cell_type": "code",
   "execution_count": null,
   "id": "8225cbed-9425-4cf1-af1b-9b23242d418f",
   "metadata": {},
   "outputs": [],
   "source": []
  },
  {
   "cell_type": "code",
   "execution_count": null,
   "id": "d357d921-1a96-4ba9-b6d5-5d149087d4f4",
   "metadata": {},
   "outputs": [],
   "source": [
    "agent.save_weights()"
   ]
  },
  {
   "cell_type": "code",
   "execution_count": null,
   "id": "cdefee96-6fd8-4bb3-a687-d79c9143c335",
   "metadata": {},
   "outputs": [],
   "source": []
  }
 ],
 "metadata": {
  "autoscrollcelloutput": true,
  "kernelspec": {
   "display_name": "Python 3",
   "language": "python",
   "name": "python3"
  },
  "language_info": {
   "codemirror_mode": {
    "name": "ipython",
    "version": 3
   },
   "file_extension": ".py",
   "mimetype": "text/x-python",
   "name": "python",
   "nbconvert_exporter": "python",
   "pygments_lexer": "ipython3",
   "version": "3.6.8"
  }
 },
 "nbformat": 4,
 "nbformat_minor": 5
}
